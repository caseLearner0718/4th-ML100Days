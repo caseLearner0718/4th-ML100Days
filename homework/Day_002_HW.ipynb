{
 "cells": [
  {
   "cell_type": "markdown",
   "metadata": {},
   "source": [
    "## [作業目標]\n",
    "了解機器學習適合應用的領域與範疇。"
   ]
  },
  {
   "cell_type": "markdown",
   "metadata": {},
   "source": [
    "## [作業重點]\n",
    "透過瞭解機器學習的運作方式，找出非常適用機器學習應用的領域及其原因"
   ]
  },
  {
   "cell_type": "markdown",
   "metadata": {},
   "source": [
    "## 作業\n",
    "請找出一個你認為機器學習可以發光發熱的領域並闡述原因?<br>\n",
    "我認為在收集景點座標這項任務上，機器學習也許有機會超越人類，因為如PPT中提到的，針對重複性高、目標明確的問題，機器學習多半能發揮得不錯。<br>在收集景點這個任務上，大多旅客的做法是先搜尋一個地名，例如：屏東，接著瀏覽其他人寫的blag文章、IG和FB上PO的旅遊文分享...，再從這些文章中找到景點的名稱、或是附近地標，最後從google map上搜尋景點名稱、地標，找到那個地點正確的位置。<br>\n",
    "這個過程符合重複性高、目標明確，也許可以通過自然語言處理，讓機器學習是否這篇文章是在介紹景點，就能完成這項任務!"
   ]
  },
  {
   "cell_type": "code",
   "execution_count": null,
   "metadata": {},
   "outputs": [],
   "source": []
  }
 ],
 "metadata": {
  "kernelspec": {
   "display_name": "Python 3",
   "language": "python",
   "name": "python3"
  },
  "language_info": {
   "codemirror_mode": {
    "name": "ipython",
    "version": 3
   },
   "file_extension": ".py",
   "mimetype": "text/x-python",
   "name": "python",
   "nbconvert_exporter": "python",
   "pygments_lexer": "ipython3",
   "version": "3.7.4"
  }
 },
 "nbformat": 4,
 "nbformat_minor": 2
}
